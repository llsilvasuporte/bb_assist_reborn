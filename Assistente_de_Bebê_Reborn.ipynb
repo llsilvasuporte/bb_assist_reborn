{
  "nbformat": 4,
  "nbformat_minor": 0,
  "metadata": {
    "colab": {
      "provenance": [],
      "include_colab_link": true
    },
    "kernelspec": {
      "name": "python3",
      "display_name": "Python 3"
    },
    "language_info": {
      "name": "python"
    }
  },
  "cells": [
    {
      "cell_type": "markdown",
      "metadata": {
        "id": "view-in-github",
        "colab_type": "text"
      },
      "source": [
        "<a href=\"https://colab.research.google.com/github/llsilvasuporte/bb_assist_reborn/blob/main/Assistente_de_Beb%C3%AA_Reborn.ipynb\" target=\"_parent\"><img src=\"https://colab.research.google.com/assets/colab-badge.svg\" alt=\"Open In Colab\"/></a>"
      ]
    },
    {
      "cell_type": "code",
      "source": [
        "import google.generativeai as genai\n",
        "import os\n"
      ],
      "metadata": {
        "id": "UCCbECexLk_h"
      },
      "execution_count": 1,
      "outputs": []
    },
    {
      "cell_type": "code",
      "source": [
        "try:\n",
        "    from google.colab import userdata\n",
        "    os.environ[\"GOOGLE_API_KEY\"] = userdata.get('GOOGLE_API_KEY')\n",
        "except ImportError:\n",
        "\n",
        "    if \"GOOGLE_API_KEY\" not in os.environ:\n",
        "        print(\"Chave API do Google não encontrada. Configure a variável de ambiente GOOGLE_API_KEY.\")\n",
        "        exit()\n",
        "\n",
        "try:\n",
        "    genai.configure(api_key=os.environ[\"GOOGLE_API_KEY\"])\n",
        "except Exception as e:\n",
        "    print(f\"Erro ao configurar a API do Gemini: {e}\")\n",
        "    print(\"Verifique se sua chave API é válida e está configurada corretamente.\")\n",
        "    exit()\n"
      ],
      "metadata": {
        "id": "NfCqHo1tLk8P"
      },
      "execution_count": 2,
      "outputs": []
    },
    {
      "cell_type": "code",
      "source": [
        "opcoes_personalidade = {\n",
        "    \"1\": {\n",
        "        \"nome\": \"Cuidadora Carinhosa (Babá)\",\n",
        "        \"prompt\": \"Você é uma babá muito carinhosa e gentil para um bebê reborn. Converse com a criança dona do bebê de forma doce, paciente e positiva. Use frases curtas e simples, como se estivesse falando com uma criancinha. Dê respostas afetuosas e focadas no bem-estar do 'bebê'.\"\n",
        "    },\n",
        "    \"2\": {\n",
        "        \"nome\": \"Enfermeira Técnica\",\n",
        "        \"prompt\": \"Você é uma enfermeira que cuida de bebês reborn e está explicando coisas para uma criança. Fale de forma clara, simples e um pouquinho séria, mas sempre gentil. Use frases curtas e fáceis de entender sobre os 'cuidados' com o bebê.\"\n",
        "    },\n",
        "    \"3\": {\n",
        "        \"nome\": \"Amiga Infantil\",\n",
        "        \"prompt\": \"Você é uma amiga super divertida e animada, quase uma criança também, conversando com a criança dona do bebê reborn! Use uma linguagem bem infantil, alegre, com exclamações e palavras fofas. Dê respostas curtinhas e brincalhonas.\"\n",
        "    },\n",
        "    \"4\": {\n",
        "        \"nome\": \"Médico Pediatra\",\n",
        "        \"prompt\": \"Você é um médico pediatra de bebês reborn, conversando com a criança que cuida do bebê. Fale com calma, de forma gentil e explique as coisas de maneira muito simples, como um 'doutor de bebês' faria. Suas respostas devem ser curtas, educativas e tranquilizadoras.\"\n",
        "    }\n",
        "}\n"
      ],
      "metadata": {
        "id": "bV4w0H5TLk5g"
      },
      "execution_count": 3,
      "outputs": []
    },
    {
      "cell_type": "code",
      "source": [
        "def conversar_com_assistente(personalidade_escolhida_prompt):\n",
        "    print(\"\\n----------------------------------------------------\")\n",
        "    print(f\"Falando com: {personalidade_escolhida_prompt['nome']}\")\n",
        "    print(\"O que você gostaria de perguntar ou falar sobre o seu bebê reborn?\")\n",
        "    print(\"Digite 'sair' a qualquer momento para voltar ao menu de personalidades.\")\n",
        "    print(\"----------------------------------------------------\\n\")\n",
        "\n",
        "    model = genai.GenerativeModel(\n",
        "        model_name=\"gemini-2.0-flash\",\n",
        "        system_instruction=personalidade_escolhida_prompt['prompt']\n",
        "    )\n",
        "    chat = model.start_chat(history=[])\n",
        "\n",
        "    exemplos_interacao = [\n",
        "        \"Meu bebê está com 'fominha', o que eu faço?\",\n",
        "        \"Você pode cantar uma musiquinha de ninar para meu bebê dormir?\",\n",
        "        \"Que brincadeira podemos fazer com meu bebê hoje?\",\n",
        "        \"Conte uma historinha bem curtinha para meu bebê.\",\n",
        "        \"Meu bebê parece 'dodói', o que pode ser?\"\n",
        "    ]\n",
        "\n",
        "    print(\"Aqui estão algumas ideias do que você pode perguntar:\")\n",
        "    for i, exemplo in enumerate(exemplos_interacao):\n",
        "        print(f\"{i+1}. {exemplo}\")\n",
        "    print(\"Ou digite sua própria pergunta!\")\n",
        "    print(\"----------------------------------------------------\\n\")\n",
        "\n",
        "    while True:\n",
        "        pergunta_usuario = input(\" Perguntinha: \").strip()\n",
        "\n",
        "        if pergunta_usuario.lower() == 'sair':\n",
        "            print(\"\\n Tudo bem! Vamos escolher outra personalidade ou encerrar. \")\n",
        "            break\n",
        "\n",
        "        if not pergunta_usuario:\n",
        "            print(\" Ops, você não disse nada! \")\n",
        "            continue\n",
        "\n",
        "        try:\n",
        "            resposta = chat.send_message(pergunta_usuario)\n",
        "\n",
        "            print(f\" Assistente: {resposta.text}\\n\")\n",
        "        except Exception as e:\n",
        "            print(f\" Oh, oh! Tive um probleminha para responder: {e}\")\n",
        "            print(\" Vamos tentar de novo? \")\n"
      ],
      "metadata": {
        "id": "Y9cBAz02xZt9"
      },
      "execution_count": 4,
      "outputs": []
    },
    {
      "cell_type": "code",
      "source": [
        "def main():\n",
        "    print(\"🧸 Bem-vindo(a) ao Cantinho dos Assistentes do Bebê Reborn! 🧸\")\n",
        "\n",
        "    while True:\n",
        "        print(\"\\nQual assistente você gostaria de escolher para conversar hoje?\")\n",
        "        for key, value in opcoes_personalidade.items():\n",
        "            print(f\"{key} - {value['nome']}\")\n",
        "        print(\"0 - Sair do programa\")\n",
        "\n",
        "        escolha_usuario = input(\"Digite o número da sua escolha: \").strip()\n",
        "\n",
        "        if escolha_usuario == '0':\n",
        "            print(\"\\n Tchauzinho! Volte sempre para cuidar do seu bebê reborn! 👋💖 \")\n",
        "            break\n",
        "\n",
        "        personalidade_selecionada = opcoes_personalidade.get(escolha_usuario)\n",
        "\n",
        "        if personalidade_selecionada:\n",
        "            conversar_com_assistente(personalidade_selecionada)\n",
        "        else:\n",
        "            print(\"\\n Escolha um número da lista, por favor! 😊 \")\n",
        "\n",
        "if __name__ == \"__main__\":\n",
        "    main()\n"
      ],
      "metadata": {
        "colab": {
          "base_uri": "https://localhost:8080/"
        },
        "id": "lc2JPA92xbnp",
        "outputId": "3ffba73b-8e91-4840-9427-ef5cd29399e7"
      },
      "execution_count": null,
      "outputs": [
        {
          "output_type": "stream",
          "name": "stdout",
          "text": [
            "🧸 Bem-vindo(a) ao Cantinho dos Assistentes do Bebê Reborn! 🧸\n",
            "\n",
            "Qual assistente você gostaria de escolher para conversar hoje?\n",
            "1 - Cuidadora Carinhosa (Babá)\n",
            "2 - Enfermeira Técnica\n",
            "3 - Amiga Infantil\n",
            "4 - Médico Pediatra\n",
            "0 - Sair do programa\n"
          ]
        }
      ]
    }
  ]
}